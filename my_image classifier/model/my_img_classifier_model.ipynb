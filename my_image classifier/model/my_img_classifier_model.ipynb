{
 "cells": [
  {
   "cell_type": "code",
   "execution_count": 2,
   "id": "0400653b",
   "metadata": {},
   "outputs": [],
   "source": [
    "import cv2\n",
    "import numpy as np\n",
    "import os\n",
    "import matplotlib.pyplot as plt"
   ]
  },
  {
   "cell_type": "code",
   "execution_count": 3,
   "id": "1354efa4",
   "metadata": {},
   "outputs": [],
   "source": [
    "face_cascade=cv2.CascadeClassifier('haarcascades/haarcascade_frontalface_default.xml')\n",
    "eye_cascade=cv2.CascadeClassifier('haarcascades/haarcascade_eye.xml')"
   ]
  },
  {
   "cell_type": "code",
   "execution_count": 4,
   "id": "62aab7b4",
   "metadata": {},
   "outputs": [],
   "source": [
    "def get_roi_image(path):\n",
    "    img=cv2.imread(path)\n",
    "    if img is None:\n",
    "        return None\n",
    "    gray_img=cv2.cvtColor(img,cv2.COLOR_BGR2GRAY)\n",
    "    faces=face_cascade.detectMultiScale(gray_img,1.3,5)\n",
    "    for (x,y,w,h) in faces:\n",
    "        roi_color=img[y:y+h,x:x+w]\n",
    "        roi_gray=gray_img[y:y+h,x:x+w]\n",
    "        eyes=eye_cascade.detectMultiScale(roi_gray)\n",
    "        if len(eyes) >= 2:\n",
    "            return roi_color"
   ]
  },
  {
   "cell_type": "code",
   "execution_count": 5,
   "id": "a46a603d",
   "metadata": {},
   "outputs": [],
   "source": [
    "path_to_raw_dataset='./raw_image_dataset'\n",
    "path_to_croped_images='./croped_image_datset'"
   ]
  },
  {
   "cell_type": "code",
   "execution_count": 6,
   "id": "3cf8b2cd",
   "metadata": {},
   "outputs": [],
   "source": [
    "import shutil\n",
    "\n",
    "if os.path.exists(path_to_croped_images):\n",
    "    shutil.rmtree(path_to_croped_images)\n",
    "os.mkdir(path_to_croped_images)"
   ]
  },
  {
   "cell_type": "code",
   "execution_count": 7,
   "id": "01b1e718",
   "metadata": {},
   "outputs": [],
   "source": [
    "list_player_names=[]\n",
    "\n",
    "for paths in os.scandir(path_to_raw_dataset):\n",
    "    list_player_names.append(paths.path)"
   ]
  },
  {
   "cell_type": "code",
   "execution_count": 8,
   "id": "62bf30d6",
   "metadata": {},
   "outputs": [
    {
     "data": {
      "text/plain": [
       "['./raw_image_dataset\\\\cristiano_ronaldo',\n",
       " './raw_image_dataset\\\\MS_Dhoni',\n",
       " './raw_image_dataset\\\\prabhas',\n",
       " './raw_image_dataset\\\\RDJ',\n",
       " './raw_image_dataset\\\\sundar_pichai']"
      ]
     },
     "execution_count": 8,
     "metadata": {},
     "output_type": "execute_result"
    }
   ],
   "source": [
    "list_player_names"
   ]
  },
  {
   "cell_type": "code",
   "execution_count": 9,
   "id": "a41d348d",
   "metadata": {},
   "outputs": [],
   "source": [
    "croped_folders_list=[]\n",
    "croped_images_paths={}"
   ]
  },
  {
   "cell_type": "code",
   "execution_count": 10,
   "id": "642dcf3a",
   "metadata": {},
   "outputs": [
    {
     "name": "stdout",
     "output_type": "stream",
     "text": [
      "generate new folder ./croped_image_datset\\cristiano_ronaldo\n",
      "generate new folder ./croped_image_datset\\MS_Dhoni\n",
      "generate new folder ./croped_image_datset\\prabhas\n",
      "generate new folder ./croped_image_datset\\RDJ\n",
      "generate new folder ./croped_image_datset\\sundar_pichai\n"
     ]
    }
   ],
   "source": [
    "for path in list_player_names:\n",
    "    name=path.split('\\\\')[-1]\n",
    "    croped_images_paths[name]=[]\n",
    "    count=0\n",
    "    for img_path in os.scandir(path):\n",
    "        roi=get_roi_image(img_path.path)\n",
    "        if roi is not None:\n",
    "            person_folder=path_to_croped_images+'\\\\'+name\n",
    "            if not (os.path.exists(person_folder)):\n",
    "                os.makedirs(person_folder)\n",
    "                print('generate new folder',person_folder)\n",
    "                croped_folders_list.append(person_folder)\n",
    "            img_file_path=person_folder+'\\\\'+name+f'_{count}'+'.png'\n",
    "            croped_images_paths[name].append(img_file_path)\n",
    "            cv2.imwrite(img_file_path,roi)\n",
    "        count+=1"
   ]
  },
  {
   "cell_type": "code",
   "execution_count": 11,
   "id": "f61483bb",
   "metadata": {},
   "outputs": [
    {
     "data": {
      "text/plain": [
       "['./croped_image_datset\\\\cristiano_ronaldo',\n",
       " './croped_image_datset\\\\MS_Dhoni',\n",
       " './croped_image_datset\\\\prabhas',\n",
       " './croped_image_datset\\\\RDJ',\n",
       " './croped_image_datset\\\\sundar_pichai']"
      ]
     },
     "execution_count": 11,
     "metadata": {},
     "output_type": "execute_result"
    }
   ],
   "source": [
    "croped_folders_list"
   ]
  },
  {
   "cell_type": "code",
   "execution_count": 12,
   "id": "bbbbe074",
   "metadata": {},
   "outputs": [
    {
     "data": {
      "text/plain": [
       "{'cristiano_ronaldo': ['./croped_image_datset\\\\cristiano_ronaldo\\\\cristiano_ronaldo_5.png',\n",
       "  './croped_image_datset\\\\cristiano_ronaldo\\\\cristiano_ronaldo_6.png',\n",
       "  './croped_image_datset\\\\cristiano_ronaldo\\\\cristiano_ronaldo_10.png',\n",
       "  './croped_image_datset\\\\cristiano_ronaldo\\\\cristiano_ronaldo_11.png',\n",
       "  './croped_image_datset\\\\cristiano_ronaldo\\\\cristiano_ronaldo_12.png',\n",
       "  './croped_image_datset\\\\cristiano_ronaldo\\\\cristiano_ronaldo_13.png',\n",
       "  './croped_image_datset\\\\cristiano_ronaldo\\\\cristiano_ronaldo_15.png',\n",
       "  './croped_image_datset\\\\cristiano_ronaldo\\\\cristiano_ronaldo_18.png',\n",
       "  './croped_image_datset\\\\cristiano_ronaldo\\\\cristiano_ronaldo_23.png',\n",
       "  './croped_image_datset\\\\cristiano_ronaldo\\\\cristiano_ronaldo_30.png',\n",
       "  './croped_image_datset\\\\cristiano_ronaldo\\\\cristiano_ronaldo_32.png',\n",
       "  './croped_image_datset\\\\cristiano_ronaldo\\\\cristiano_ronaldo_33.png',\n",
       "  './croped_image_datset\\\\cristiano_ronaldo\\\\cristiano_ronaldo_36.png',\n",
       "  './croped_image_datset\\\\cristiano_ronaldo\\\\cristiano_ronaldo_38.png',\n",
       "  './croped_image_datset\\\\cristiano_ronaldo\\\\cristiano_ronaldo_39.png',\n",
       "  './croped_image_datset\\\\cristiano_ronaldo\\\\cristiano_ronaldo_40.png',\n",
       "  './croped_image_datset\\\\cristiano_ronaldo\\\\cristiano_ronaldo_42.png',\n",
       "  './croped_image_datset\\\\cristiano_ronaldo\\\\cristiano_ronaldo_52.png',\n",
       "  './croped_image_datset\\\\cristiano_ronaldo\\\\cristiano_ronaldo_57.png',\n",
       "  './croped_image_datset\\\\cristiano_ronaldo\\\\cristiano_ronaldo_58.png',\n",
       "  './croped_image_datset\\\\cristiano_ronaldo\\\\cristiano_ronaldo_59.png',\n",
       "  './croped_image_datset\\\\cristiano_ronaldo\\\\cristiano_ronaldo_60.png',\n",
       "  './croped_image_datset\\\\cristiano_ronaldo\\\\cristiano_ronaldo_63.png',\n",
       "  './croped_image_datset\\\\cristiano_ronaldo\\\\cristiano_ronaldo_64.png',\n",
       "  './croped_image_datset\\\\cristiano_ronaldo\\\\cristiano_ronaldo_65.png',\n",
       "  './croped_image_datset\\\\cristiano_ronaldo\\\\cristiano_ronaldo_66.png',\n",
       "  './croped_image_datset\\\\cristiano_ronaldo\\\\cristiano_ronaldo_68.png',\n",
       "  './croped_image_datset\\\\cristiano_ronaldo\\\\cristiano_ronaldo_69.png',\n",
       "  './croped_image_datset\\\\cristiano_ronaldo\\\\cristiano_ronaldo_70.png',\n",
       "  './croped_image_datset\\\\cristiano_ronaldo\\\\cristiano_ronaldo_73.png',\n",
       "  './croped_image_datset\\\\cristiano_ronaldo\\\\cristiano_ronaldo_74.png',\n",
       "  './croped_image_datset\\\\cristiano_ronaldo\\\\cristiano_ronaldo_77.png',\n",
       "  './croped_image_datset\\\\cristiano_ronaldo\\\\cristiano_ronaldo_79.png',\n",
       "  './croped_image_datset\\\\cristiano_ronaldo\\\\cristiano_ronaldo_80.png',\n",
       "  './croped_image_datset\\\\cristiano_ronaldo\\\\cristiano_ronaldo_81.png',\n",
       "  './croped_image_datset\\\\cristiano_ronaldo\\\\cristiano_ronaldo_82.png',\n",
       "  './croped_image_datset\\\\cristiano_ronaldo\\\\cristiano_ronaldo_83.png',\n",
       "  './croped_image_datset\\\\cristiano_ronaldo\\\\cristiano_ronaldo_84.png',\n",
       "  './croped_image_datset\\\\cristiano_ronaldo\\\\cristiano_ronaldo_86.png',\n",
       "  './croped_image_datset\\\\cristiano_ronaldo\\\\cristiano_ronaldo_88.png',\n",
       "  './croped_image_datset\\\\cristiano_ronaldo\\\\cristiano_ronaldo_89.png',\n",
       "  './croped_image_datset\\\\cristiano_ronaldo\\\\cristiano_ronaldo_91.png',\n",
       "  './croped_image_datset\\\\cristiano_ronaldo\\\\cristiano_ronaldo_96.png',\n",
       "  './croped_image_datset\\\\cristiano_ronaldo\\\\cristiano_ronaldo_97.png',\n",
       "  './croped_image_datset\\\\cristiano_ronaldo\\\\cristiano_ronaldo_100.png',\n",
       "  './croped_image_datset\\\\cristiano_ronaldo\\\\cristiano_ronaldo_103.png',\n",
       "  './croped_image_datset\\\\cristiano_ronaldo\\\\cristiano_ronaldo_108.png',\n",
       "  './croped_image_datset\\\\cristiano_ronaldo\\\\cristiano_ronaldo_110.png',\n",
       "  './croped_image_datset\\\\cristiano_ronaldo\\\\cristiano_ronaldo_111.png',\n",
       "  './croped_image_datset\\\\cristiano_ronaldo\\\\cristiano_ronaldo_112.png',\n",
       "  './croped_image_datset\\\\cristiano_ronaldo\\\\cristiano_ronaldo_113.png',\n",
       "  './croped_image_datset\\\\cristiano_ronaldo\\\\cristiano_ronaldo_114.png',\n",
       "  './croped_image_datset\\\\cristiano_ronaldo\\\\cristiano_ronaldo_115.png',\n",
       "  './croped_image_datset\\\\cristiano_ronaldo\\\\cristiano_ronaldo_118.png',\n",
       "  './croped_image_datset\\\\cristiano_ronaldo\\\\cristiano_ronaldo_120.png',\n",
       "  './croped_image_datset\\\\cristiano_ronaldo\\\\cristiano_ronaldo_122.png',\n",
       "  './croped_image_datset\\\\cristiano_ronaldo\\\\cristiano_ronaldo_123.png',\n",
       "  './croped_image_datset\\\\cristiano_ronaldo\\\\cristiano_ronaldo_125.png',\n",
       "  './croped_image_datset\\\\cristiano_ronaldo\\\\cristiano_ronaldo_127.png',\n",
       "  './croped_image_datset\\\\cristiano_ronaldo\\\\cristiano_ronaldo_128.png',\n",
       "  './croped_image_datset\\\\cristiano_ronaldo\\\\cristiano_ronaldo_129.png',\n",
       "  './croped_image_datset\\\\cristiano_ronaldo\\\\cristiano_ronaldo_130.png',\n",
       "  './croped_image_datset\\\\cristiano_ronaldo\\\\cristiano_ronaldo_135.png',\n",
       "  './croped_image_datset\\\\cristiano_ronaldo\\\\cristiano_ronaldo_136.png',\n",
       "  './croped_image_datset\\\\cristiano_ronaldo\\\\cristiano_ronaldo_137.png',\n",
       "  './croped_image_datset\\\\cristiano_ronaldo\\\\cristiano_ronaldo_138.png',\n",
       "  './croped_image_datset\\\\cristiano_ronaldo\\\\cristiano_ronaldo_139.png',\n",
       "  './croped_image_datset\\\\cristiano_ronaldo\\\\cristiano_ronaldo_144.png',\n",
       "  './croped_image_datset\\\\cristiano_ronaldo\\\\cristiano_ronaldo_145.png',\n",
       "  './croped_image_datset\\\\cristiano_ronaldo\\\\cristiano_ronaldo_148.png'],\n",
       " 'MS_Dhoni': ['./croped_image_datset\\\\MS_Dhoni\\\\MS_Dhoni_0.png',\n",
       "  './croped_image_datset\\\\MS_Dhoni\\\\MS_Dhoni_1.png',\n",
       "  './croped_image_datset\\\\MS_Dhoni\\\\MS_Dhoni_4.png',\n",
       "  './croped_image_datset\\\\MS_Dhoni\\\\MS_Dhoni_6.png',\n",
       "  './croped_image_datset\\\\MS_Dhoni\\\\MS_Dhoni_9.png',\n",
       "  './croped_image_datset\\\\MS_Dhoni\\\\MS_Dhoni_10.png',\n",
       "  './croped_image_datset\\\\MS_Dhoni\\\\MS_Dhoni_16.png',\n",
       "  './croped_image_datset\\\\MS_Dhoni\\\\MS_Dhoni_17.png',\n",
       "  './croped_image_datset\\\\MS_Dhoni\\\\MS_Dhoni_18.png',\n",
       "  './croped_image_datset\\\\MS_Dhoni\\\\MS_Dhoni_19.png',\n",
       "  './croped_image_datset\\\\MS_Dhoni\\\\MS_Dhoni_21.png',\n",
       "  './croped_image_datset\\\\MS_Dhoni\\\\MS_Dhoni_27.png',\n",
       "  './croped_image_datset\\\\MS_Dhoni\\\\MS_Dhoni_33.png',\n",
       "  './croped_image_datset\\\\MS_Dhoni\\\\MS_Dhoni_35.png',\n",
       "  './croped_image_datset\\\\MS_Dhoni\\\\MS_Dhoni_42.png',\n",
       "  './croped_image_datset\\\\MS_Dhoni\\\\MS_Dhoni_60.png',\n",
       "  './croped_image_datset\\\\MS_Dhoni\\\\MS_Dhoni_61.png',\n",
       "  './croped_image_datset\\\\MS_Dhoni\\\\MS_Dhoni_63.png',\n",
       "  './croped_image_datset\\\\MS_Dhoni\\\\MS_Dhoni_66.png',\n",
       "  './croped_image_datset\\\\MS_Dhoni\\\\MS_Dhoni_67.png',\n",
       "  './croped_image_datset\\\\MS_Dhoni\\\\MS_Dhoni_68.png',\n",
       "  './croped_image_datset\\\\MS_Dhoni\\\\MS_Dhoni_74.png',\n",
       "  './croped_image_datset\\\\MS_Dhoni\\\\MS_Dhoni_76.png',\n",
       "  './croped_image_datset\\\\MS_Dhoni\\\\MS_Dhoni_82.png',\n",
       "  './croped_image_datset\\\\MS_Dhoni\\\\MS_Dhoni_84.png',\n",
       "  './croped_image_datset\\\\MS_Dhoni\\\\MS_Dhoni_89.png',\n",
       "  './croped_image_datset\\\\MS_Dhoni\\\\MS_Dhoni_91.png',\n",
       "  './croped_image_datset\\\\MS_Dhoni\\\\MS_Dhoni_95.png',\n",
       "  './croped_image_datset\\\\MS_Dhoni\\\\MS_Dhoni_100.png',\n",
       "  './croped_image_datset\\\\MS_Dhoni\\\\MS_Dhoni_102.png',\n",
       "  './croped_image_datset\\\\MS_Dhoni\\\\MS_Dhoni_106.png',\n",
       "  './croped_image_datset\\\\MS_Dhoni\\\\MS_Dhoni_110.png',\n",
       "  './croped_image_datset\\\\MS_Dhoni\\\\MS_Dhoni_112.png',\n",
       "  './croped_image_datset\\\\MS_Dhoni\\\\MS_Dhoni_113.png',\n",
       "  './croped_image_datset\\\\MS_Dhoni\\\\MS_Dhoni_116.png',\n",
       "  './croped_image_datset\\\\MS_Dhoni\\\\MS_Dhoni_119.png',\n",
       "  './croped_image_datset\\\\MS_Dhoni\\\\MS_Dhoni_122.png',\n",
       "  './croped_image_datset\\\\MS_Dhoni\\\\MS_Dhoni_124.png',\n",
       "  './croped_image_datset\\\\MS_Dhoni\\\\MS_Dhoni_127.png',\n",
       "  './croped_image_datset\\\\MS_Dhoni\\\\MS_Dhoni_130.png',\n",
       "  './croped_image_datset\\\\MS_Dhoni\\\\MS_Dhoni_133.png',\n",
       "  './croped_image_datset\\\\MS_Dhoni\\\\MS_Dhoni_134.png',\n",
       "  './croped_image_datset\\\\MS_Dhoni\\\\MS_Dhoni_139.png',\n",
       "  './croped_image_datset\\\\MS_Dhoni\\\\MS_Dhoni_143.png',\n",
       "  './croped_image_datset\\\\MS_Dhoni\\\\MS_Dhoni_146.png',\n",
       "  './croped_image_datset\\\\MS_Dhoni\\\\MS_Dhoni_147.png',\n",
       "  './croped_image_datset\\\\MS_Dhoni\\\\MS_Dhoni_148.png',\n",
       "  './croped_image_datset\\\\MS_Dhoni\\\\MS_Dhoni_154.png',\n",
       "  './croped_image_datset\\\\MS_Dhoni\\\\MS_Dhoni_157.png',\n",
       "  './croped_image_datset\\\\MS_Dhoni\\\\MS_Dhoni_159.png',\n",
       "  './croped_image_datset\\\\MS_Dhoni\\\\MS_Dhoni_171.png',\n",
       "  './croped_image_datset\\\\MS_Dhoni\\\\MS_Dhoni_172.png',\n",
       "  './croped_image_datset\\\\MS_Dhoni\\\\MS_Dhoni_174.png',\n",
       "  './croped_image_datset\\\\MS_Dhoni\\\\MS_Dhoni_182.png',\n",
       "  './croped_image_datset\\\\MS_Dhoni\\\\MS_Dhoni_191.png',\n",
       "  './croped_image_datset\\\\MS_Dhoni\\\\MS_Dhoni_194.png',\n",
       "  './croped_image_datset\\\\MS_Dhoni\\\\MS_Dhoni_195.png',\n",
       "  './croped_image_datset\\\\MS_Dhoni\\\\MS_Dhoni_197.png'],\n",
       " 'prabhas': ['./croped_image_datset\\\\prabhas\\\\prabhas_0.png',\n",
       "  './croped_image_datset\\\\prabhas\\\\prabhas_1.png',\n",
       "  './croped_image_datset\\\\prabhas\\\\prabhas_5.png',\n",
       "  './croped_image_datset\\\\prabhas\\\\prabhas_6.png',\n",
       "  './croped_image_datset\\\\prabhas\\\\prabhas_8.png',\n",
       "  './croped_image_datset\\\\prabhas\\\\prabhas_10.png',\n",
       "  './croped_image_datset\\\\prabhas\\\\prabhas_13.png',\n",
       "  './croped_image_datset\\\\prabhas\\\\prabhas_14.png',\n",
       "  './croped_image_datset\\\\prabhas\\\\prabhas_15.png',\n",
       "  './croped_image_datset\\\\prabhas\\\\prabhas_21.png',\n",
       "  './croped_image_datset\\\\prabhas\\\\prabhas_26.png',\n",
       "  './croped_image_datset\\\\prabhas\\\\prabhas_32.png',\n",
       "  './croped_image_datset\\\\prabhas\\\\prabhas_35.png',\n",
       "  './croped_image_datset\\\\prabhas\\\\prabhas_36.png',\n",
       "  './croped_image_datset\\\\prabhas\\\\prabhas_37.png',\n",
       "  './croped_image_datset\\\\prabhas\\\\prabhas_39.png',\n",
       "  './croped_image_datset\\\\prabhas\\\\prabhas_44.png',\n",
       "  './croped_image_datset\\\\prabhas\\\\prabhas_48.png',\n",
       "  './croped_image_datset\\\\prabhas\\\\prabhas_51.png',\n",
       "  './croped_image_datset\\\\prabhas\\\\prabhas_56.png',\n",
       "  './croped_image_datset\\\\prabhas\\\\prabhas_57.png',\n",
       "  './croped_image_datset\\\\prabhas\\\\prabhas_61.png',\n",
       "  './croped_image_datset\\\\prabhas\\\\prabhas_72.png',\n",
       "  './croped_image_datset\\\\prabhas\\\\prabhas_78.png',\n",
       "  './croped_image_datset\\\\prabhas\\\\prabhas_80.png',\n",
       "  './croped_image_datset\\\\prabhas\\\\prabhas_85.png',\n",
       "  './croped_image_datset\\\\prabhas\\\\prabhas_87.png',\n",
       "  './croped_image_datset\\\\prabhas\\\\prabhas_88.png',\n",
       "  './croped_image_datset\\\\prabhas\\\\prabhas_90.png',\n",
       "  './croped_image_datset\\\\prabhas\\\\prabhas_93.png',\n",
       "  './croped_image_datset\\\\prabhas\\\\prabhas_96.png',\n",
       "  './croped_image_datset\\\\prabhas\\\\prabhas_100.png',\n",
       "  './croped_image_datset\\\\prabhas\\\\prabhas_107.png',\n",
       "  './croped_image_datset\\\\prabhas\\\\prabhas_109.png',\n",
       "  './croped_image_datset\\\\prabhas\\\\prabhas_114.png',\n",
       "  './croped_image_datset\\\\prabhas\\\\prabhas_115.png',\n",
       "  './croped_image_datset\\\\prabhas\\\\prabhas_121.png',\n",
       "  './croped_image_datset\\\\prabhas\\\\prabhas_123.png',\n",
       "  './croped_image_datset\\\\prabhas\\\\prabhas_127.png',\n",
       "  './croped_image_datset\\\\prabhas\\\\prabhas_128.png',\n",
       "  './croped_image_datset\\\\prabhas\\\\prabhas_129.png',\n",
       "  './croped_image_datset\\\\prabhas\\\\prabhas_130.png',\n",
       "  './croped_image_datset\\\\prabhas\\\\prabhas_137.png',\n",
       "  './croped_image_datset\\\\prabhas\\\\prabhas_138.png',\n",
       "  './croped_image_datset\\\\prabhas\\\\prabhas_139.png',\n",
       "  './croped_image_datset\\\\prabhas\\\\prabhas_140.png',\n",
       "  './croped_image_datset\\\\prabhas\\\\prabhas_149.png',\n",
       "  './croped_image_datset\\\\prabhas\\\\prabhas_150.png',\n",
       "  './croped_image_datset\\\\prabhas\\\\prabhas_155.png',\n",
       "  './croped_image_datset\\\\prabhas\\\\prabhas_156.png',\n",
       "  './croped_image_datset\\\\prabhas\\\\prabhas_158.png',\n",
       "  './croped_image_datset\\\\prabhas\\\\prabhas_162.png',\n",
       "  './croped_image_datset\\\\prabhas\\\\prabhas_163.png',\n",
       "  './croped_image_datset\\\\prabhas\\\\prabhas_174.png',\n",
       "  './croped_image_datset\\\\prabhas\\\\prabhas_175.png',\n",
       "  './croped_image_datset\\\\prabhas\\\\prabhas_179.png',\n",
       "  './croped_image_datset\\\\prabhas\\\\prabhas_180.png',\n",
       "  './croped_image_datset\\\\prabhas\\\\prabhas_191.png',\n",
       "  './croped_image_datset\\\\prabhas\\\\prabhas_192.png',\n",
       "  './croped_image_datset\\\\prabhas\\\\prabhas_193.png',\n",
       "  './croped_image_datset\\\\prabhas\\\\prabhas_199.png',\n",
       "  './croped_image_datset\\\\prabhas\\\\prabhas_201.png',\n",
       "  './croped_image_datset\\\\prabhas\\\\prabhas_204.png'],\n",
       " 'RDJ': ['./croped_image_datset\\\\RDJ\\\\RDJ_0.png',\n",
       "  './croped_image_datset\\\\RDJ\\\\RDJ_1.png',\n",
       "  './croped_image_datset\\\\RDJ\\\\RDJ_2.png',\n",
       "  './croped_image_datset\\\\RDJ\\\\RDJ_4.png',\n",
       "  './croped_image_datset\\\\RDJ\\\\RDJ_7.png',\n",
       "  './croped_image_datset\\\\RDJ\\\\RDJ_11.png',\n",
       "  './croped_image_datset\\\\RDJ\\\\RDJ_12.png',\n",
       "  './croped_image_datset\\\\RDJ\\\\RDJ_13.png',\n",
       "  './croped_image_datset\\\\RDJ\\\\RDJ_14.png',\n",
       "  './croped_image_datset\\\\RDJ\\\\RDJ_15.png',\n",
       "  './croped_image_datset\\\\RDJ\\\\RDJ_28.png',\n",
       "  './croped_image_datset\\\\RDJ\\\\RDJ_29.png',\n",
       "  './croped_image_datset\\\\RDJ\\\\RDJ_33.png',\n",
       "  './croped_image_datset\\\\RDJ\\\\RDJ_38.png',\n",
       "  './croped_image_datset\\\\RDJ\\\\RDJ_39.png',\n",
       "  './croped_image_datset\\\\RDJ\\\\RDJ_40.png',\n",
       "  './croped_image_datset\\\\RDJ\\\\RDJ_50.png',\n",
       "  './croped_image_datset\\\\RDJ\\\\RDJ_51.png',\n",
       "  './croped_image_datset\\\\RDJ\\\\RDJ_57.png',\n",
       "  './croped_image_datset\\\\RDJ\\\\RDJ_58.png',\n",
       "  './croped_image_datset\\\\RDJ\\\\RDJ_69.png',\n",
       "  './croped_image_datset\\\\RDJ\\\\RDJ_72.png',\n",
       "  './croped_image_datset\\\\RDJ\\\\RDJ_76.png',\n",
       "  './croped_image_datset\\\\RDJ\\\\RDJ_77.png',\n",
       "  './croped_image_datset\\\\RDJ\\\\RDJ_82.png',\n",
       "  './croped_image_datset\\\\RDJ\\\\RDJ_85.png',\n",
       "  './croped_image_datset\\\\RDJ\\\\RDJ_89.png',\n",
       "  './croped_image_datset\\\\RDJ\\\\RDJ_94.png',\n",
       "  './croped_image_datset\\\\RDJ\\\\RDJ_103.png',\n",
       "  './croped_image_datset\\\\RDJ\\\\RDJ_104.png',\n",
       "  './croped_image_datset\\\\RDJ\\\\RDJ_105.png',\n",
       "  './croped_image_datset\\\\RDJ\\\\RDJ_115.png',\n",
       "  './croped_image_datset\\\\RDJ\\\\RDJ_119.png',\n",
       "  './croped_image_datset\\\\RDJ\\\\RDJ_120.png',\n",
       "  './croped_image_datset\\\\RDJ\\\\RDJ_131.png',\n",
       "  './croped_image_datset\\\\RDJ\\\\RDJ_136.png',\n",
       "  './croped_image_datset\\\\RDJ\\\\RDJ_140.png',\n",
       "  './croped_image_datset\\\\RDJ\\\\RDJ_144.png',\n",
       "  './croped_image_datset\\\\RDJ\\\\RDJ_153.png',\n",
       "  './croped_image_datset\\\\RDJ\\\\RDJ_160.png',\n",
       "  './croped_image_datset\\\\RDJ\\\\RDJ_167.png',\n",
       "  './croped_image_datset\\\\RDJ\\\\RDJ_172.png',\n",
       "  './croped_image_datset\\\\RDJ\\\\RDJ_173.png',\n",
       "  './croped_image_datset\\\\RDJ\\\\RDJ_187.png',\n",
       "  './croped_image_datset\\\\RDJ\\\\RDJ_191.png',\n",
       "  './croped_image_datset\\\\RDJ\\\\RDJ_192.png',\n",
       "  './croped_image_datset\\\\RDJ\\\\RDJ_193.png',\n",
       "  './croped_image_datset\\\\RDJ\\\\RDJ_196.png',\n",
       "  './croped_image_datset\\\\RDJ\\\\RDJ_197.png',\n",
       "  './croped_image_datset\\\\RDJ\\\\RDJ_199.png',\n",
       "  './croped_image_datset\\\\RDJ\\\\RDJ_202.png',\n",
       "  './croped_image_datset\\\\RDJ\\\\RDJ_203.png',\n",
       "  './croped_image_datset\\\\RDJ\\\\RDJ_207.png',\n",
       "  './croped_image_datset\\\\RDJ\\\\RDJ_209.png',\n",
       "  './croped_image_datset\\\\RDJ\\\\RDJ_210.png',\n",
       "  './croped_image_datset\\\\RDJ\\\\RDJ_213.png',\n",
       "  './croped_image_datset\\\\RDJ\\\\RDJ_217.png',\n",
       "  './croped_image_datset\\\\RDJ\\\\RDJ_220.png',\n",
       "  './croped_image_datset\\\\RDJ\\\\RDJ_223.png',\n",
       "  './croped_image_datset\\\\RDJ\\\\RDJ_226.png',\n",
       "  './croped_image_datset\\\\RDJ\\\\RDJ_227.png',\n",
       "  './croped_image_datset\\\\RDJ\\\\RDJ_229.png',\n",
       "  './croped_image_datset\\\\RDJ\\\\RDJ_236.png',\n",
       "  './croped_image_datset\\\\RDJ\\\\RDJ_238.png',\n",
       "  './croped_image_datset\\\\RDJ\\\\RDJ_246.png',\n",
       "  './croped_image_datset\\\\RDJ\\\\RDJ_249.png',\n",
       "  './croped_image_datset\\\\RDJ\\\\RDJ_254.png',\n",
       "  './croped_image_datset\\\\RDJ\\\\RDJ_257.png',\n",
       "  './croped_image_datset\\\\RDJ\\\\RDJ_258.png',\n",
       "  './croped_image_datset\\\\RDJ\\\\RDJ_264.png'],\n",
       " 'sundar_pichai': ['./croped_image_datset\\\\sundar_pichai\\\\sundar_pichai_6.png',\n",
       "  './croped_image_datset\\\\sundar_pichai\\\\sundar_pichai_11.png',\n",
       "  './croped_image_datset\\\\sundar_pichai\\\\sundar_pichai_14.png',\n",
       "  './croped_image_datset\\\\sundar_pichai\\\\sundar_pichai_16.png',\n",
       "  './croped_image_datset\\\\sundar_pichai\\\\sundar_pichai_21.png',\n",
       "  './croped_image_datset\\\\sundar_pichai\\\\sundar_pichai_27.png',\n",
       "  './croped_image_datset\\\\sundar_pichai\\\\sundar_pichai_60.png',\n",
       "  './croped_image_datset\\\\sundar_pichai\\\\sundar_pichai_72.png',\n",
       "  './croped_image_datset\\\\sundar_pichai\\\\sundar_pichai_106.png',\n",
       "  './croped_image_datset\\\\sundar_pichai\\\\sundar_pichai_126.png',\n",
       "  './croped_image_datset\\\\sundar_pichai\\\\sundar_pichai_130.png',\n",
       "  './croped_image_datset\\\\sundar_pichai\\\\sundar_pichai_135.png',\n",
       "  './croped_image_datset\\\\sundar_pichai\\\\sundar_pichai_136.png',\n",
       "  './croped_image_datset\\\\sundar_pichai\\\\sundar_pichai_183.png',\n",
       "  './croped_image_datset\\\\sundar_pichai\\\\sundar_pichai_216.png']}"
      ]
     },
     "execution_count": 12,
     "metadata": {},
     "output_type": "execute_result"
    }
   ],
   "source": [
    "croped_images_paths"
   ]
  },
  {
   "cell_type": "code",
   "execution_count": 13,
   "id": "df54eee8",
   "metadata": {},
   "outputs": [],
   "source": [
    "import pywt\n",
    "  \n",
    "\n",
    "def w2d(img, mode='haar', level=1):\n",
    "    imArray = img\n",
    "    #Datatype conversions\n",
    "    #convert to grayscale\n",
    "    imArray = cv2.cvtColor( imArray,cv2.COLOR_RGB2GRAY )\n",
    "    #convert to float\n",
    "    imArray =  np.float32(imArray)   \n",
    "    imArray /= 255;\n",
    "    # compute coefficients \n",
    "    coeffs=pywt.wavedec2(imArray, mode, level=level)\n",
    "\n",
    "    #Process Coefficients\n",
    "    coeffs_H=list(coeffs)  \n",
    "    coeffs_H[0] *= 0;  \n",
    "\n",
    "    # reconstruction\n",
    "    imArray_H=pywt.waverec2(coeffs_H, mode);\n",
    "    imArray_H *= 255;\n",
    "    imArray_H =  np.uint8(imArray_H)\n",
    "\n",
    "    return imArray_H"
   ]
  },
  {
   "cell_type": "code",
   "execution_count": 14,
   "id": "dd894161",
   "metadata": {},
   "outputs": [],
   "source": [
    "person_name_numbers={}\n",
    "count=0\n",
    "for person_name in croped_images_paths.keys():\n",
    "    person_name_numbers[person_name]=count\n",
    "    count+=1"
   ]
  },
  {
   "cell_type": "code",
   "execution_count": 15,
   "id": "b53cb385",
   "metadata": {},
   "outputs": [
    {
     "data": {
      "text/plain": [
       "{'cristiano_ronaldo': 0,\n",
       " 'MS_Dhoni': 1,\n",
       " 'prabhas': 2,\n",
       " 'RDJ': 3,\n",
       " 'sundar_pichai': 4}"
      ]
     },
     "execution_count": 15,
     "metadata": {},
     "output_type": "execute_result"
    }
   ],
   "source": [
    "person_name_numbers"
   ]
  },
  {
   "cell_type": "code",
   "execution_count": 21,
   "id": "aac5e03d",
   "metadata": {},
   "outputs": [],
   "source": [
    "x,y=[],[]\n",
    "for person,images_paths in croped_images_paths.items():\n",
    "    for img_path in images_paths:\n",
    "        img=cv2.imread(img_path)\n",
    "        if img is None:\n",
    "            continue\n",
    "        scaled_raw_img=cv2.resize(img,(32,32))\n",
    "        img_har=w2d(img,'db1',5)\n",
    "        scaled_har_img=cv2.resize(img_har,(32,32))\n",
    "        combined_img=np.vstack((scaled_raw_img.reshape(32*32*3,1),scaled_har_img.reshape(32*32,1)))\n",
    "        x.append(combined_img)\n",
    "        y.append(person_name_numbers[person])\n",
    "        "
   ]
  },
  {
   "cell_type": "code",
   "execution_count": 22,
   "id": "2bbdbdb1",
   "metadata": {},
   "outputs": [
    {
     "data": {
      "text/plain": [
       "234"
      ]
     },
     "execution_count": 22,
     "metadata": {},
     "output_type": "execute_result"
    }
   ],
   "source": [
    "len(x)"
   ]
  },
  {
   "cell_type": "code",
   "execution_count": 23,
   "id": "c4ca4e93",
   "metadata": {},
   "outputs": [
    {
     "data": {
      "text/plain": [
       "4096"
      ]
     },
     "execution_count": 23,
     "metadata": {},
     "output_type": "execute_result"
    }
   ],
   "source": [
    "len(x[0])"
   ]
  },
  {
   "cell_type": "code",
   "execution_count": 24,
   "id": "1b9389eb",
   "metadata": {},
   "outputs": [],
   "source": [
    "x=np.array(x).reshape(len(x),4096).astype(float)"
   ]
  },
  {
   "cell_type": "code",
   "execution_count": 25,
   "id": "5e6542e9",
   "metadata": {},
   "outputs": [
    {
     "data": {
      "text/plain": [
       "array([[220., 213., 210., ..., 228.,  98., 146.],\n",
       "       [ 72.,  60.,  58., ...,  61.,  16., 239.],\n",
       "       [237., 233., 232., ..., 228.,  54.,  61.],\n",
       "       ...,\n",
       "       [102., 136., 125., ...,   7.,   6.,   5.],\n",
       "       [216., 249., 242., ..., 247.,  20.,  34.],\n",
       "       [ 24.,  28., 121., ...,   0.,   1.,  56.]])"
      ]
     },
     "execution_count": 25,
     "metadata": {},
     "output_type": "execute_result"
    }
   ],
   "source": [
    "x"
   ]
  },
  {
   "cell_type": "code",
   "execution_count": 26,
   "id": "eb6f9620",
   "metadata": {},
   "outputs": [
    {
     "data": {
      "text/plain": [
       "[0,\n",
       " 0,\n",
       " 0,\n",
       " 0,\n",
       " 0,\n",
       " 0,\n",
       " 0,\n",
       " 0,\n",
       " 0,\n",
       " 0,\n",
       " 0,\n",
       " 0,\n",
       " 0,\n",
       " 0,\n",
       " 0,\n",
       " 0,\n",
       " 0,\n",
       " 0,\n",
       " 0,\n",
       " 0,\n",
       " 0,\n",
       " 0,\n",
       " 0,\n",
       " 0,\n",
       " 0,\n",
       " 0,\n",
       " 0,\n",
       " 0,\n",
       " 0,\n",
       " 0,\n",
       " 0,\n",
       " 0,\n",
       " 0,\n",
       " 0,\n",
       " 0,\n",
       " 0,\n",
       " 0,\n",
       " 0,\n",
       " 0,\n",
       " 0,\n",
       " 0,\n",
       " 0,\n",
       " 0,\n",
       " 0,\n",
       " 0,\n",
       " 0,\n",
       " 0,\n",
       " 0,\n",
       " 0,\n",
       " 0,\n",
       " 0,\n",
       " 0,\n",
       " 0,\n",
       " 0,\n",
       " 0,\n",
       " 0,\n",
       " 0,\n",
       " 0,\n",
       " 0,\n",
       " 0,\n",
       " 0,\n",
       " 0,\n",
       " 0,\n",
       " 1,\n",
       " 1,\n",
       " 1,\n",
       " 1,\n",
       " 1,\n",
       " 1,\n",
       " 1,\n",
       " 1,\n",
       " 1,\n",
       " 1,\n",
       " 1,\n",
       " 1,\n",
       " 1,\n",
       " 1,\n",
       " 1,\n",
       " 1,\n",
       " 1,\n",
       " 1,\n",
       " 1,\n",
       " 1,\n",
       " 1,\n",
       " 1,\n",
       " 1,\n",
       " 1,\n",
       " 1,\n",
       " 1,\n",
       " 1,\n",
       " 1,\n",
       " 1,\n",
       " 1,\n",
       " 1,\n",
       " 1,\n",
       " 1,\n",
       " 1,\n",
       " 1,\n",
       " 1,\n",
       " 1,\n",
       " 1,\n",
       " 1,\n",
       " 1,\n",
       " 1,\n",
       " 1,\n",
       " 1,\n",
       " 1,\n",
       " 1,\n",
       " 1,\n",
       " 1,\n",
       " 1,\n",
       " 1,\n",
       " 1,\n",
       " 1,\n",
       " 1,\n",
       " 1,\n",
       " 2,\n",
       " 2,\n",
       " 2,\n",
       " 2,\n",
       " 2,\n",
       " 2,\n",
       " 2,\n",
       " 2,\n",
       " 2,\n",
       " 2,\n",
       " 2,\n",
       " 2,\n",
       " 2,\n",
       " 2,\n",
       " 2,\n",
       " 2,\n",
       " 2,\n",
       " 2,\n",
       " 2,\n",
       " 2,\n",
       " 2,\n",
       " 2,\n",
       " 2,\n",
       " 2,\n",
       " 2,\n",
       " 2,\n",
       " 2,\n",
       " 2,\n",
       " 2,\n",
       " 2,\n",
       " 2,\n",
       " 2,\n",
       " 2,\n",
       " 2,\n",
       " 2,\n",
       " 2,\n",
       " 2,\n",
       " 2,\n",
       " 2,\n",
       " 2,\n",
       " 2,\n",
       " 2,\n",
       " 2,\n",
       " 2,\n",
       " 2,\n",
       " 2,\n",
       " 2,\n",
       " 2,\n",
       " 3,\n",
       " 3,\n",
       " 3,\n",
       " 3,\n",
       " 3,\n",
       " 3,\n",
       " 3,\n",
       " 3,\n",
       " 3,\n",
       " 3,\n",
       " 3,\n",
       " 3,\n",
       " 3,\n",
       " 3,\n",
       " 3,\n",
       " 3,\n",
       " 3,\n",
       " 3,\n",
       " 3,\n",
       " 3,\n",
       " 3,\n",
       " 3,\n",
       " 3,\n",
       " 3,\n",
       " 3,\n",
       " 3,\n",
       " 3,\n",
       " 3,\n",
       " 3,\n",
       " 3,\n",
       " 3,\n",
       " 3,\n",
       " 3,\n",
       " 3,\n",
       " 3,\n",
       " 3,\n",
       " 3,\n",
       " 3,\n",
       " 3,\n",
       " 3,\n",
       " 3,\n",
       " 3,\n",
       " 3,\n",
       " 3,\n",
       " 3,\n",
       " 3,\n",
       " 3,\n",
       " 3,\n",
       " 3,\n",
       " 3,\n",
       " 3,\n",
       " 3,\n",
       " 3,\n",
       " 3,\n",
       " 3,\n",
       " 3,\n",
       " 3,\n",
       " 4,\n",
       " 4,\n",
       " 4,\n",
       " 4,\n",
       " 4,\n",
       " 4,\n",
       " 4,\n",
       " 4,\n",
       " 4,\n",
       " 4,\n",
       " 4,\n",
       " 4,\n",
       " 4]"
      ]
     },
     "execution_count": 26,
     "metadata": {},
     "output_type": "execute_result"
    }
   ],
   "source": [
    "y"
   ]
  },
  {
   "cell_type": "code",
   "execution_count": 32,
   "id": "f630091e",
   "metadata": {},
   "outputs": [],
   "source": [
    "from sklearn.model_selection import train_test_split\n",
    "from sklearn.svm import SVC\n",
    "from sklearn.pipeline import Pipeline\n",
    "from sklearn.preprocessing import StandardScaler"
   ]
  },
  {
   "cell_type": "code",
   "execution_count": 28,
   "id": "ddac6303",
   "metadata": {},
   "outputs": [],
   "source": [
    "x_train,x_test,y_train,y_test=train_test_split(x,y,random_state=0)"
   ]
  },
  {
   "cell_type": "code",
   "execution_count": 67,
   "id": "751789a8",
   "metadata": {},
   "outputs": [
    {
     "data": {
      "text/html": [
       "<style>#sk-container-id-2 {color: black;}#sk-container-id-2 pre{padding: 0;}#sk-container-id-2 div.sk-toggleable {background-color: white;}#sk-container-id-2 label.sk-toggleable__label {cursor: pointer;display: block;width: 100%;margin-bottom: 0;padding: 0.3em;box-sizing: border-box;text-align: center;}#sk-container-id-2 label.sk-toggleable__label-arrow:before {content: \"▸\";float: left;margin-right: 0.25em;color: #696969;}#sk-container-id-2 label.sk-toggleable__label-arrow:hover:before {color: black;}#sk-container-id-2 div.sk-estimator:hover label.sk-toggleable__label-arrow:before {color: black;}#sk-container-id-2 div.sk-toggleable__content {max-height: 0;max-width: 0;overflow: hidden;text-align: left;background-color: #f0f8ff;}#sk-container-id-2 div.sk-toggleable__content pre {margin: 0.2em;color: black;border-radius: 0.25em;background-color: #f0f8ff;}#sk-container-id-2 input.sk-toggleable__control:checked~div.sk-toggleable__content {max-height: 200px;max-width: 100%;overflow: auto;}#sk-container-id-2 input.sk-toggleable__control:checked~label.sk-toggleable__label-arrow:before {content: \"▾\";}#sk-container-id-2 div.sk-estimator input.sk-toggleable__control:checked~label.sk-toggleable__label {background-color: #d4ebff;}#sk-container-id-2 div.sk-label input.sk-toggleable__control:checked~label.sk-toggleable__label {background-color: #d4ebff;}#sk-container-id-2 input.sk-hidden--visually {border: 0;clip: rect(1px 1px 1px 1px);clip: rect(1px, 1px, 1px, 1px);height: 1px;margin: -1px;overflow: hidden;padding: 0;position: absolute;width: 1px;}#sk-container-id-2 div.sk-estimator {font-family: monospace;background-color: #f0f8ff;border: 1px dotted black;border-radius: 0.25em;box-sizing: border-box;margin-bottom: 0.5em;}#sk-container-id-2 div.sk-estimator:hover {background-color: #d4ebff;}#sk-container-id-2 div.sk-parallel-item::after {content: \"\";width: 100%;border-bottom: 1px solid gray;flex-grow: 1;}#sk-container-id-2 div.sk-label:hover label.sk-toggleable__label {background-color: #d4ebff;}#sk-container-id-2 div.sk-serial::before {content: \"\";position: absolute;border-left: 1px solid gray;box-sizing: border-box;top: 0;bottom: 0;left: 50%;z-index: 0;}#sk-container-id-2 div.sk-serial {display: flex;flex-direction: column;align-items: center;background-color: white;padding-right: 0.2em;padding-left: 0.2em;position: relative;}#sk-container-id-2 div.sk-item {position: relative;z-index: 1;}#sk-container-id-2 div.sk-parallel {display: flex;align-items: stretch;justify-content: center;background-color: white;position: relative;}#sk-container-id-2 div.sk-item::before, #sk-container-id-2 div.sk-parallel-item::before {content: \"\";position: absolute;border-left: 1px solid gray;box-sizing: border-box;top: 0;bottom: 0;left: 50%;z-index: -1;}#sk-container-id-2 div.sk-parallel-item {display: flex;flex-direction: column;z-index: 1;position: relative;background-color: white;}#sk-container-id-2 div.sk-parallel-item:first-child::after {align-self: flex-end;width: 50%;}#sk-container-id-2 div.sk-parallel-item:last-child::after {align-self: flex-start;width: 50%;}#sk-container-id-2 div.sk-parallel-item:only-child::after {width: 0;}#sk-container-id-2 div.sk-dashed-wrapped {border: 1px dashed gray;margin: 0 0.4em 0.5em 0.4em;box-sizing: border-box;padding-bottom: 0.4em;background-color: white;}#sk-container-id-2 div.sk-label label {font-family: monospace;font-weight: bold;display: inline-block;line-height: 1.2em;}#sk-container-id-2 div.sk-label-container {text-align: center;}#sk-container-id-2 div.sk-container {/* jupyter's `normalize.less` sets `[hidden] { display: none; }` but bootstrap.min.css set `[hidden] { display: none !important; }` so we also need the `!important` here to be able to override the default hidden behavior on the sphinx rendered scikit-learn.org. See: https://github.com/scikit-learn/scikit-learn/issues/21755 */display: inline-block !important;position: relative;}#sk-container-id-2 div.sk-text-repr-fallback {display: none;}</style><div id=\"sk-container-id-2\" class=\"sk-top-container\"><div class=\"sk-text-repr-fallback\"><pre>SVC(C=10)</pre><b>In a Jupyter environment, please rerun this cell to show the HTML representation or trust the notebook. <br />On GitHub, the HTML representation is unable to render, please try loading this page with nbviewer.org.</b></div><div class=\"sk-container\" hidden><div class=\"sk-item\"><div class=\"sk-estimator sk-toggleable\"><input class=\"sk-toggleable__control sk-hidden--visually\" id=\"sk-estimator-id-4\" type=\"checkbox\" checked><label for=\"sk-estimator-id-4\" class=\"sk-toggleable__label sk-toggleable__label-arrow\">SVC</label><div class=\"sk-toggleable__content\"><pre>SVC(C=10)</pre></div></div></div></div></div>"
      ],
      "text/plain": [
       "SVC(C=10)"
      ]
     },
     "execution_count": 67,
     "metadata": {},
     "output_type": "execute_result"
    }
   ],
   "source": [
    "svc=SVC(C=10,kernel='rbf')\n",
    "svc.fit(x_train,y_train)"
   ]
  },
  {
   "cell_type": "code",
   "execution_count": 36,
   "id": "01f7d0bd",
   "metadata": {},
   "outputs": [],
   "source": [
    "pipe=Pipeline([('StandardScaler',StandardScaler()),('model',SVC(C=10,kernel='rbf'))])"
   ]
  },
  {
   "cell_type": "code",
   "execution_count": 37,
   "id": "01a87c64",
   "metadata": {},
   "outputs": [
    {
     "data": {
      "text/html": [
       "<style>#sk-container-id-1 {color: black;}#sk-container-id-1 pre{padding: 0;}#sk-container-id-1 div.sk-toggleable {background-color: white;}#sk-container-id-1 label.sk-toggleable__label {cursor: pointer;display: block;width: 100%;margin-bottom: 0;padding: 0.3em;box-sizing: border-box;text-align: center;}#sk-container-id-1 label.sk-toggleable__label-arrow:before {content: \"▸\";float: left;margin-right: 0.25em;color: #696969;}#sk-container-id-1 label.sk-toggleable__label-arrow:hover:before {color: black;}#sk-container-id-1 div.sk-estimator:hover label.sk-toggleable__label-arrow:before {color: black;}#sk-container-id-1 div.sk-toggleable__content {max-height: 0;max-width: 0;overflow: hidden;text-align: left;background-color: #f0f8ff;}#sk-container-id-1 div.sk-toggleable__content pre {margin: 0.2em;color: black;border-radius: 0.25em;background-color: #f0f8ff;}#sk-container-id-1 input.sk-toggleable__control:checked~div.sk-toggleable__content {max-height: 200px;max-width: 100%;overflow: auto;}#sk-container-id-1 input.sk-toggleable__control:checked~label.sk-toggleable__label-arrow:before {content: \"▾\";}#sk-container-id-1 div.sk-estimator input.sk-toggleable__control:checked~label.sk-toggleable__label {background-color: #d4ebff;}#sk-container-id-1 div.sk-label input.sk-toggleable__control:checked~label.sk-toggleable__label {background-color: #d4ebff;}#sk-container-id-1 input.sk-hidden--visually {border: 0;clip: rect(1px 1px 1px 1px);clip: rect(1px, 1px, 1px, 1px);height: 1px;margin: -1px;overflow: hidden;padding: 0;position: absolute;width: 1px;}#sk-container-id-1 div.sk-estimator {font-family: monospace;background-color: #f0f8ff;border: 1px dotted black;border-radius: 0.25em;box-sizing: border-box;margin-bottom: 0.5em;}#sk-container-id-1 div.sk-estimator:hover {background-color: #d4ebff;}#sk-container-id-1 div.sk-parallel-item::after {content: \"\";width: 100%;border-bottom: 1px solid gray;flex-grow: 1;}#sk-container-id-1 div.sk-label:hover label.sk-toggleable__label {background-color: #d4ebff;}#sk-container-id-1 div.sk-serial::before {content: \"\";position: absolute;border-left: 1px solid gray;box-sizing: border-box;top: 0;bottom: 0;left: 50%;z-index: 0;}#sk-container-id-1 div.sk-serial {display: flex;flex-direction: column;align-items: center;background-color: white;padding-right: 0.2em;padding-left: 0.2em;position: relative;}#sk-container-id-1 div.sk-item {position: relative;z-index: 1;}#sk-container-id-1 div.sk-parallel {display: flex;align-items: stretch;justify-content: center;background-color: white;position: relative;}#sk-container-id-1 div.sk-item::before, #sk-container-id-1 div.sk-parallel-item::before {content: \"\";position: absolute;border-left: 1px solid gray;box-sizing: border-box;top: 0;bottom: 0;left: 50%;z-index: -1;}#sk-container-id-1 div.sk-parallel-item {display: flex;flex-direction: column;z-index: 1;position: relative;background-color: white;}#sk-container-id-1 div.sk-parallel-item:first-child::after {align-self: flex-end;width: 50%;}#sk-container-id-1 div.sk-parallel-item:last-child::after {align-self: flex-start;width: 50%;}#sk-container-id-1 div.sk-parallel-item:only-child::after {width: 0;}#sk-container-id-1 div.sk-dashed-wrapped {border: 1px dashed gray;margin: 0 0.4em 0.5em 0.4em;box-sizing: border-box;padding-bottom: 0.4em;background-color: white;}#sk-container-id-1 div.sk-label label {font-family: monospace;font-weight: bold;display: inline-block;line-height: 1.2em;}#sk-container-id-1 div.sk-label-container {text-align: center;}#sk-container-id-1 div.sk-container {/* jupyter's `normalize.less` sets `[hidden] { display: none; }` but bootstrap.min.css set `[hidden] { display: none !important; }` so we also need the `!important` here to be able to override the default hidden behavior on the sphinx rendered scikit-learn.org. See: https://github.com/scikit-learn/scikit-learn/issues/21755 */display: inline-block !important;position: relative;}#sk-container-id-1 div.sk-text-repr-fallback {display: none;}</style><div id=\"sk-container-id-1\" class=\"sk-top-container\"><div class=\"sk-text-repr-fallback\"><pre>Pipeline(steps=[(&#x27;StandardScaler&#x27;, StandardScaler()), (&#x27;model&#x27;, SVC(C=10))])</pre><b>In a Jupyter environment, please rerun this cell to show the HTML representation or trust the notebook. <br />On GitHub, the HTML representation is unable to render, please try loading this page with nbviewer.org.</b></div><div class=\"sk-container\" hidden><div class=\"sk-item sk-dashed-wrapped\"><div class=\"sk-label-container\"><div class=\"sk-label sk-toggleable\"><input class=\"sk-toggleable__control sk-hidden--visually\" id=\"sk-estimator-id-1\" type=\"checkbox\" ><label for=\"sk-estimator-id-1\" class=\"sk-toggleable__label sk-toggleable__label-arrow\">Pipeline</label><div class=\"sk-toggleable__content\"><pre>Pipeline(steps=[(&#x27;StandardScaler&#x27;, StandardScaler()), (&#x27;model&#x27;, SVC(C=10))])</pre></div></div></div><div class=\"sk-serial\"><div class=\"sk-item\"><div class=\"sk-estimator sk-toggleable\"><input class=\"sk-toggleable__control sk-hidden--visually\" id=\"sk-estimator-id-2\" type=\"checkbox\" ><label for=\"sk-estimator-id-2\" class=\"sk-toggleable__label sk-toggleable__label-arrow\">StandardScaler</label><div class=\"sk-toggleable__content\"><pre>StandardScaler()</pre></div></div></div><div class=\"sk-item\"><div class=\"sk-estimator sk-toggleable\"><input class=\"sk-toggleable__control sk-hidden--visually\" id=\"sk-estimator-id-3\" type=\"checkbox\" ><label for=\"sk-estimator-id-3\" class=\"sk-toggleable__label sk-toggleable__label-arrow\">SVC</label><div class=\"sk-toggleable__content\"><pre>SVC(C=10)</pre></div></div></div></div></div></div></div>"
      ],
      "text/plain": [
       "Pipeline(steps=[('StandardScaler', StandardScaler()), ('model', SVC(C=10))])"
      ]
     },
     "execution_count": 37,
     "metadata": {},
     "output_type": "execute_result"
    }
   ],
   "source": [
    "pipe.fit(x_train,y_train)"
   ]
  },
  {
   "cell_type": "code",
   "execution_count": 217,
   "id": "4b6fd99d",
   "metadata": {},
   "outputs": [
    {
     "data": {
      "text/html": [
       "<style>#sk-container-id-1 {color: black;}#sk-container-id-1 pre{padding: 0;}#sk-container-id-1 div.sk-toggleable {background-color: white;}#sk-container-id-1 label.sk-toggleable__label {cursor: pointer;display: block;width: 100%;margin-bottom: 0;padding: 0.3em;box-sizing: border-box;text-align: center;}#sk-container-id-1 label.sk-toggleable__label-arrow:before {content: \"▸\";float: left;margin-right: 0.25em;color: #696969;}#sk-container-id-1 label.sk-toggleable__label-arrow:hover:before {color: black;}#sk-container-id-1 div.sk-estimator:hover label.sk-toggleable__label-arrow:before {color: black;}#sk-container-id-1 div.sk-toggleable__content {max-height: 0;max-width: 0;overflow: hidden;text-align: left;background-color: #f0f8ff;}#sk-container-id-1 div.sk-toggleable__content pre {margin: 0.2em;color: black;border-radius: 0.25em;background-color: #f0f8ff;}#sk-container-id-1 input.sk-toggleable__control:checked~div.sk-toggleable__content {max-height: 200px;max-width: 100%;overflow: auto;}#sk-container-id-1 input.sk-toggleable__control:checked~label.sk-toggleable__label-arrow:before {content: \"▾\";}#sk-container-id-1 div.sk-estimator input.sk-toggleable__control:checked~label.sk-toggleable__label {background-color: #d4ebff;}#sk-container-id-1 div.sk-label input.sk-toggleable__control:checked~label.sk-toggleable__label {background-color: #d4ebff;}#sk-container-id-1 input.sk-hidden--visually {border: 0;clip: rect(1px 1px 1px 1px);clip: rect(1px, 1px, 1px, 1px);height: 1px;margin: -1px;overflow: hidden;padding: 0;position: absolute;width: 1px;}#sk-container-id-1 div.sk-estimator {font-family: monospace;background-color: #f0f8ff;border: 1px dotted black;border-radius: 0.25em;box-sizing: border-box;margin-bottom: 0.5em;}#sk-container-id-1 div.sk-estimator:hover {background-color: #d4ebff;}#sk-container-id-1 div.sk-parallel-item::after {content: \"\";width: 100%;border-bottom: 1px solid gray;flex-grow: 1;}#sk-container-id-1 div.sk-label:hover label.sk-toggleable__label {background-color: #d4ebff;}#sk-container-id-1 div.sk-serial::before {content: \"\";position: absolute;border-left: 1px solid gray;box-sizing: border-box;top: 0;bottom: 0;left: 50%;z-index: 0;}#sk-container-id-1 div.sk-serial {display: flex;flex-direction: column;align-items: center;background-color: white;padding-right: 0.2em;padding-left: 0.2em;position: relative;}#sk-container-id-1 div.sk-item {position: relative;z-index: 1;}#sk-container-id-1 div.sk-parallel {display: flex;align-items: stretch;justify-content: center;background-color: white;position: relative;}#sk-container-id-1 div.sk-item::before, #sk-container-id-1 div.sk-parallel-item::before {content: \"\";position: absolute;border-left: 1px solid gray;box-sizing: border-box;top: 0;bottom: 0;left: 50%;z-index: -1;}#sk-container-id-1 div.sk-parallel-item {display: flex;flex-direction: column;z-index: 1;position: relative;background-color: white;}#sk-container-id-1 div.sk-parallel-item:first-child::after {align-self: flex-end;width: 50%;}#sk-container-id-1 div.sk-parallel-item:last-child::after {align-self: flex-start;width: 50%;}#sk-container-id-1 div.sk-parallel-item:only-child::after {width: 0;}#sk-container-id-1 div.sk-dashed-wrapped {border: 1px dashed gray;margin: 0 0.4em 0.5em 0.4em;box-sizing: border-box;padding-bottom: 0.4em;background-color: white;}#sk-container-id-1 div.sk-label label {font-family: monospace;font-weight: bold;display: inline-block;line-height: 1.2em;}#sk-container-id-1 div.sk-label-container {text-align: center;}#sk-container-id-1 div.sk-container {/* jupyter's `normalize.less` sets `[hidden] { display: none; }` but bootstrap.min.css set `[hidden] { display: none !important; }` so we also need the `!important` here to be able to override the default hidden behavior on the sphinx rendered scikit-learn.org. See: https://github.com/scikit-learn/scikit-learn/issues/21755 */display: inline-block !important;position: relative;}#sk-container-id-1 div.sk-text-repr-fallback {display: none;}</style><div id=\"sk-container-id-1\" class=\"sk-top-container\"><div class=\"sk-text-repr-fallback\"><pre>SVC(C=10)</pre><b>In a Jupyter environment, please rerun this cell to show the HTML representation or trust the notebook. <br />On GitHub, the HTML representation is unable to render, please try loading this page with nbviewer.org.</b></div><div class=\"sk-container\" hidden><div class=\"sk-item\"><div class=\"sk-estimator sk-toggleable\"><input class=\"sk-toggleable__control sk-hidden--visually\" id=\"sk-estimator-id-1\" type=\"checkbox\" checked><label for=\"sk-estimator-id-1\" class=\"sk-toggleable__label sk-toggleable__label-arrow\">SVC</label><div class=\"sk-toggleable__content\"><pre>SVC(C=10)</pre></div></div></div></div></div>"
      ],
      "text/plain": [
       "SVC(C=10)"
      ]
     },
     "execution_count": 217,
     "metadata": {},
     "output_type": "execute_result"
    }
   ],
   "source": [
    "svc.fit(x_train,y_train)"
   ]
  },
  {
   "cell_type": "code",
   "execution_count": 38,
   "id": "00e7d389",
   "metadata": {},
   "outputs": [
    {
     "data": {
      "text/plain": [
       "0.7288135593220338"
      ]
     },
     "execution_count": 38,
     "metadata": {},
     "output_type": "execute_result"
    }
   ],
   "source": [
    "pipe.score(x_test,y_test)"
   ]
  },
  {
   "cell_type": "code",
   "execution_count": 41,
   "id": "7de3d34f",
   "metadata": {},
   "outputs": [
    {
     "data": {
      "text/plain": [
       "['./croped_image_datset\\\\cristiano_ronaldo',\n",
       " './croped_image_datset\\\\MS_Dhoni',\n",
       " './croped_image_datset\\\\prabhas',\n",
       " './croped_image_datset\\\\RDJ',\n",
       " './croped_image_datset\\\\sundar_pichai']"
      ]
     },
     "execution_count": 41,
     "metadata": {},
     "output_type": "execute_result"
    }
   ],
   "source": [
    "croped_folders_list"
   ]
  },
  {
   "cell_type": "code",
   "execution_count": 77,
   "id": "8b7cc583",
   "metadata": {},
   "outputs": [],
   "source": [
    "from sklearn.linear_model import LogisticRegression\n",
    "from sklearn.ensemble import RandomForestClassifier\n",
    "from sklearn.pipeline import make_pipeline\n",
    "from sklearn.model_selection import GridSearchCV\n",
    "import pandas as pd\n",
    "import matplotlib"
   ]
  },
  {
   "cell_type": "code",
   "execution_count": 57,
   "id": "1ee2fcba",
   "metadata": {},
   "outputs": [],
   "source": [
    "model_params={'SVC':{\n",
    "                'model':SVC(gamma='auto',probability=True),\n",
    "                'params':{\n",
    "                'svc__C':[1,5,10,100],\n",
    "                'svc__kernel':['linear','rbf']\n",
    "                }\n",
    "            },\n",
    "             'LogisticRegression':{\n",
    "                 'model':LogisticRegression(solver='liblinear',multi_class='auto'),\n",
    "                 'params':{\n",
    "                     'logisticregression__C':[1,5,10,100]\n",
    "                 }\n",
    "             },\n",
    "             'RandomForestClassifier':{\n",
    "                 'model':RandomForestClassifier(),\n",
    "                 'params':{\n",
    "                     'randomforestclassifier__n_estimators':[1,5,10,20,50,100]\n",
    "                 }\n",
    "             }\n",
    "             }"
   ]
  },
  {
   "cell_type": "code",
   "execution_count": 60,
   "id": "4e552af9",
   "metadata": {},
   "outputs": [],
   "source": [
    "scores=[]\n",
    "best_estimators={}\n",
    "for name,mp in model_params.items():\n",
    "    pipe=make_pipeline(StandardScaler(),mp['model'])\n",
    "    clf=GridSearchCV(pipe,mp['params'],cv=5,return_train_score=False)\n",
    "    clf.fit(x_train,y_train)\n",
    "    scores.append({\n",
    "        'model':name,\n",
    "        'best_params':clf.best_params_,\n",
    "        'best_score':clf.best_score_\n",
    "    })\n",
    "    best_estimators[name]=clf.best_estimator_\n",
    "df=pd.DataFrame(scores,['model','best_params','best_score'])"
   ]
  },
  {
   "cell_type": "code",
   "execution_count": 61,
   "id": "b04ff476",
   "metadata": {},
   "outputs": [
    {
     "data": {
      "text/html": [
       "<div>\n",
       "<style scoped>\n",
       "    .dataframe tbody tr th:only-of-type {\n",
       "        vertical-align: middle;\n",
       "    }\n",
       "\n",
       "    .dataframe tbody tr th {\n",
       "        vertical-align: top;\n",
       "    }\n",
       "\n",
       "    .dataframe thead th {\n",
       "        text-align: right;\n",
       "    }\n",
       "</style>\n",
       "<table border=\"1\" class=\"dataframe\">\n",
       "  <thead>\n",
       "    <tr style=\"text-align: right;\">\n",
       "      <th></th>\n",
       "      <th>model</th>\n",
       "      <th>best_params</th>\n",
       "      <th>best_score</th>\n",
       "    </tr>\n",
       "  </thead>\n",
       "  <tbody>\n",
       "    <tr>\n",
       "      <th>model</th>\n",
       "      <td>SVC</td>\n",
       "      <td>{'svc__C': 1, 'svc__kernel': 'linear'}</td>\n",
       "      <td>0.754286</td>\n",
       "    </tr>\n",
       "    <tr>\n",
       "      <th>best_params</th>\n",
       "      <td>LogisticRegression</td>\n",
       "      <td>{'logisticregression__C': 1}</td>\n",
       "      <td>0.765714</td>\n",
       "    </tr>\n",
       "    <tr>\n",
       "      <th>best_score</th>\n",
       "      <td>RandomForestClassifier</td>\n",
       "      <td>{'randomforestclassifier__n_estimators': 50}</td>\n",
       "      <td>0.628571</td>\n",
       "    </tr>\n",
       "  </tbody>\n",
       "</table>\n",
       "</div>"
      ],
      "text/plain": [
       "                              model  \\\n",
       "model                           SVC   \n",
       "best_params      LogisticRegression   \n",
       "best_score   RandomForestClassifier   \n",
       "\n",
       "                                              best_params  best_score  \n",
       "model              {'svc__C': 1, 'svc__kernel': 'linear'}    0.754286  \n",
       "best_params                  {'logisticregression__C': 1}    0.765714  \n",
       "best_score   {'randomforestclassifier__n_estimators': 50}    0.628571  "
      ]
     },
     "execution_count": 61,
     "metadata": {},
     "output_type": "execute_result"
    }
   ],
   "source": [
    "df"
   ]
  },
  {
   "cell_type": "code",
   "execution_count": 63,
   "id": "01eeb1d8",
   "metadata": {},
   "outputs": [
    {
     "data": {
      "text/plain": [
       "0.7796610169491526"
      ]
     },
     "execution_count": 63,
     "metadata": {},
     "output_type": "execute_result"
    }
   ],
   "source": [
    "best_estimators['SVC'].score(x_test,y_test)"
   ]
  },
  {
   "cell_type": "code",
   "execution_count": 64,
   "id": "3f351fbc",
   "metadata": {},
   "outputs": [
    {
     "data": {
      "text/plain": [
       "0.7796610169491526"
      ]
     },
     "execution_count": 64,
     "metadata": {},
     "output_type": "execute_result"
    }
   ],
   "source": [
    "best_estimators['LogisticRegression'].score(x_test,y_test)"
   ]
  },
  {
   "cell_type": "code",
   "execution_count": 65,
   "id": "c7aedefd",
   "metadata": {},
   "outputs": [
    {
     "data": {
      "text/plain": [
       "0.576271186440678"
      ]
     },
     "execution_count": 65,
     "metadata": {},
     "output_type": "execute_result"
    }
   ],
   "source": [
    "best_estimators['RandomForestClassifier'].score(x_test,y_test)"
   ]
  },
  {
   "cell_type": "code",
   "execution_count": 68,
   "id": "4a3bbc6c",
   "metadata": {},
   "outputs": [
    {
     "data": {
      "text/plain": [
       "0.7627118644067796"
      ]
     },
     "execution_count": 68,
     "metadata": {},
     "output_type": "execute_result"
    }
   ],
   "source": [
    "svc.score(x_test,y_test)"
   ]
  },
  {
   "cell_type": "code",
   "execution_count": 70,
   "id": "51e52a1b",
   "metadata": {},
   "outputs": [],
   "source": [
    "best_clf=best_estimators['SVC']"
   ]
  },
  {
   "cell_type": "code",
   "execution_count": 73,
   "id": "ba33c10a",
   "metadata": {},
   "outputs": [],
   "source": [
    "from sklearn.metrics import confusion_matrix"
   ]
  },
  {
   "cell_type": "code",
   "execution_count": 74,
   "id": "901c3ba6",
   "metadata": {},
   "outputs": [],
   "source": [
    "cm=confusion_matrix(y_test,best_clf.predict(x_test))"
   ]
  },
  {
   "cell_type": "code",
   "execution_count": 76,
   "id": "5f402e11",
   "metadata": {},
   "outputs": [],
   "source": [
    "import seaborn as sns"
   ]
  },
  {
   "cell_type": "code",
   "execution_count": 78,
   "id": "f052c3d1",
   "metadata": {},
   "outputs": [
    {
     "data": {
      "text/plain": [
       "Text(50.722222222222214, 0.5, 'truth')"
      ]
     },
     "execution_count": 78,
     "metadata": {},
     "output_type": "execute_result"
    },
    {
     "data": {
      "image/png": "[encoded data removed]",
      "text/plain": [
       "<Figure size 640x480 with 2 Axes>"
      ]
     },
     "metadata": {},
     "output_type": "display_data"
    }
   ],
   "source": [
    "sns.heatmap(cm,annot=True)\n",
    "plt.xlabel('predict')\n",
    "plt.ylabel('truth')"
   ]
  },
  {
   "cell_type": "code",
   "execution_count": 79,
   "id": "40ea1c6b",
   "metadata": {},
   "outputs": [
    {
     "data": {
      "text/plain": [
       "['my_classifier.pkl']"
      ]
     },
     "execution_count": 79,
     "metadata": {},
     "output_type": "execute_result"
    }
   ],
   "source": [
    "import joblib\n",
    "joblib.dump(best_clf,'my_classifier.pkl')"
   ]
  },
  {
   "cell_type": "code",
   "execution_count": 81,
   "id": "76aa9930",
   "metadata": {},
   "outputs": [],
   "source": [
    "import json\n",
    "with open(\"class_dictionary.json\",\"w\") as f:\n",
    "    f.write(json.dumps(person_name_numbers))"
   ]
  }
 ],
 "metadata": {
  "kernelspec": {
   "display_name": "Python 3 (ipykernel)",
   "language": "python",
   "name": "python3"
  },
  "language_info": {
   "codemirror_mode": {
    "name": "ipython",
    "version": 3
   },
   "file_extension": ".py",
   "mimetype": "text/x-python",
   "name": "python",
   "nbconvert_exporter": "python",
   "pygments_lexer": "ipython3",
   "version": "3.11.5"
  }
 },
 "nbformat": 4,
 "nbformat_minor": 5
}
